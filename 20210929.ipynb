{
  "nbformat": 4,
  "nbformat_minor": 0,
  "metadata": {
    "colab": {
      "name": "20210929.ipynb",
      "provenance": [],
      "authorship_tag": "ABX9TyNci0WtuFXUAowMWDLJu4oT",
      "include_colab_link": true
    },
    "kernelspec": {
      "name": "python3",
      "display_name": "Python 3"
    },
    "language_info": {
      "name": "python"
    }
  },
  "cells": [
    {
      "cell_type": "markdown",
      "metadata": {
        "id": "view-in-github",
        "colab_type": "text"
      },
      "source": [
        "<a href=\"https://colab.research.google.com/github/danielHsuKSU/2021_2_courses/blob/main/20210929.ipynb\" target=\"_parent\"><img src=\"https://colab.research.google.com/assets/colab-badge.svg\" alt=\"Open In Colab\"/></a>"
      ]
    },
    {
      "cell_type": "code",
      "metadata": {
        "colab": {
          "base_uri": "https://localhost:8080/"
        },
        "id": "5LTehrantFfW",
        "outputId": "69c31976-b6ca-4129-9a64-c6585dbf0f29"
      },
      "source": [
        "a = int(input(\"請輸入：\"))\n",
        "\n",
        "print(type(a))\n",
        "\n",
        "b=a+1\n",
        "\n",
        "print(b)"
      ],
      "execution_count": 2,
      "outputs": [
        {
          "output_type": "stream",
          "name": "stdout",
          "text": [
            "請輸入：12\n",
            "<class 'int'>\n",
            "13\n"
          ]
        }
      ]
    }
  ]
}